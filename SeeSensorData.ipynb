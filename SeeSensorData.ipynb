{
 "cells": [
  {
   "cell_type": "code",
   "execution_count": null,
   "metadata": {},
   "outputs": [],
   "source": [
    "%matplotlib notebook\n",
    "from rsens import *\n",
    "\n",
    "#how often to read, in seconds:\n",
    "delay = 25\n",
    "outfilename = '190930_odvals.csv'\n",
    "\n",
    "starttime = time.time()\n",
    "initFile(outfilename)\n",
    "fig = initplot()\n",
    "allvals = {'time':[],'r':[],'g':[],'b':[],'c':[],\\\n",
    "           'ctr_r':[],'ctrl_g':[],'ctrl_b':[],'ctrl_c':[],\\\n",
    "          }\n",
    "while True:\n",
    "    lumvals = takeReading()\n",
    "    updateDict(allvals,starttime,lumvals,outfilename)\n",
    "    updateplot(fig,allvals)\n",
    "    time.sleep(delay)"
   ]
  }
 ],
 "metadata": {
  "kernelspec": {
   "display_name": "Python 3",
   "language": "python",
   "name": "python3"
  },
  "language_info": {
   "codemirror_mode": {
    "name": "ipython",
    "version": 3
   },
   "file_extension": ".py",
   "mimetype": "text/x-python",
   "name": "python",
   "nbconvert_exporter": "python",
   "pygments_lexer": "ipython3",
   "version": "3.6.3"
  }
 },
 "nbformat": 4,
 "nbformat_minor": 2
}
