{
 "cells": [
  {
   "cell_type": "code",
   "execution_count": null,
   "metadata": {},
   "outputs": [],
   "source": [
    "import os\n",
    "#how often to display the graph, in seconds:\n",
    "#read time is fixed at 25 seconds\n",
    "delay = 15\n",
    "datapath = os.path.join('.','data')\n",
    "outfilename = '190930_odvals.csv'\n",
    "statuspath = 'statusfile.txt'"
   ]
  },
  {
   "cell_type": "code",
   "execution_count": null,
   "metadata": {},
   "outputs": [],
   "source": [
    "#run this to start the readings\n",
    "import time\n",
    "starttime = time.time()\n",
    "with open(os.path.join(datapath,statuspath), 'w') as statfle:\n",
    "    statfle.write(outfilename+\",0x29,\"+str(starttime))"
   ]
  },
  {
   "cell_type": "code",
   "execution_count": null,
   "metadata": {},
   "outputs": [],
   "source": [
    "#run this to stop the readings\n",
    "with open(os.path.join(datapath,statuspath), 'w') as statfle:\n",
    "    statfle.write(\"\")"
   ]
  },
  {
   "cell_type": "code",
   "execution_count": null,
   "metadata": {},
   "outputs": [],
   "source": [
    "%matplotlib notebook\n",
    "import os\n",
    "import sys\n",
    "sys.path.append(os.path.join('.','runsensor'))\n",
    "from rsens import *\n",
    "import time\n",
    "fig,ax = initplot()\n",
    "while True:\n",
    "    allvals = readFile(os.path.join(datapath,outfilename))\n",
    "    #updateDict(allvals,starttime,lumvals,outfilename)\n",
    "    updatePlot(fig,ax,allvals)\n",
    "    time.sleep(delay)"
   ]
  },
  {
   "cell_type": "code",
   "execution_count": 57,
   "metadata": {},
   "outputs": [
    {
     "data": {
      "application/vnd.jupyter.widget-view+json": {
       "model_id": "10a39d79df464fedb9720a1831ac3b58",
       "version_major": 2,
       "version_minor": 0
      },
      "text/plain": [
       "VBox(children=(HBox(children=(VBox(children=(Figure(fig_margin={'top': 0, 'bottom': 0, 'left': 0, 'right': 0},…"
      ]
     },
     "metadata": {},
     "output_type": "display_data"
    }
   ],
   "source": [
    "#import matplotlib.pyplot as plt\n",
    "import matplotlib.gridspec as gridspec\n",
    "import random\n",
    "import numpy as np\n",
    "import ipywidgets as widgets\n",
    "import bqplot as bq\n",
    "#from bqplot import pyplot as plt\n",
    "#%matplotlib notebook\n",
    "#from ipywidgets import GridspecLayout, Button, Layout\n",
    "#fig2 = plt.figure()\n",
    "#ax = fig2.add_axes([0.1,0.1,0.8,0.8])\n",
    "#spec2 = gridspec.GridSpec(ncols=2, nrows=2)\n",
    "#f2_ax1 = fig2.add_subplot(spec2[0, 0])\n",
    "#f2_ax2 = fig2.add_subplot(spec2[0, 1])\n",
    "#f2_ax3 = fig2.add_subplot(spec2[1, 0])\n",
    "#f2_ax4 = fig2.add_subplot(spec2[1, 1])\n",
    "\n",
    "data = np.random.randn(5,1)/5\n",
    "#print(len(data))\n",
    "#grid = widgets.GridspecLayout(3,3)\n",
    "x_lin = bq.LinearScale()\n",
    "y_lin = bq.LinearScale()\n",
    "scat=bq.Lines(x=[1,2,3,4,5],y=[8,4,5,7,3],scales={'x':x_lin,'y':y_lin})\n",
    "fig1 = bq.Figure(marks=[scat],layout=widgets.Layout(width='auto', height='auto'),\\\n",
    "                fig_margin=dict(top=0, bottom=0, left=0, right=0))\n",
    "efig1 = bq.Figure(marks=[],layout=widgets.Layout(width='auto', height='auto'),\\\n",
    "                fig_margin=dict(top=0, bottom=0, left=0, right=0))\n",
    "#fig1.marks=[]\n",
    "#plt.show()\n",
    "#bq.Scatter(x=[0,1,2,3,4,5],y=[6,3,5,3,1,5])\n",
    "beginbut1 = widgets.Button(\n",
    "    description='Begin',\n",
    "    disabled=False,\n",
    "    button_style='success', # 'success', 'info', 'warning', 'danger' or ''\n",
    "    tooltip='start',\n",
    ")\n",
    "\n",
    "endbut1 = widgets.Button(\n",
    "    description='End',\n",
    "    disabled=False,\n",
    "    button_style='danger', # 'success', 'info', 'warning', 'danger' or ''\n",
    "    tooltip='stop',\n",
    ")\n",
    "emptybut = widgets.Button(\n",
    "    description='',\n",
    "    disabled=True,\n",
    "    button_style='', # 'success', 'info', 'warning', 'danger' or ''\n",
    "    tooltip='stop',\n",
    "    layout=widgets.Layout(width='auto',height='auto')\n",
    ")\n",
    "cbox = widgets.VBox([fig1,widgets.HBox([beginbut1,endbut1])])\n",
    "ebox= widgets.VBox([efig1,widgets.HBox([beginbut1,endbut1])])\n",
    "display(widgets.VBox([widgets.HBox([cbox,cbox,cbox]),\n",
    "                      widgets.HBox([cbox,cbox,cbox]),\n",
    "                       widgets.HBox([cbox,ebox,ebox]),]))"
   ]
  },
  {
   "cell_type": "code",
   "execution_count": null,
   "metadata": {},
   "outputs": [],
   "source": []
  }
 ],
 "metadata": {
  "kernelspec": {
   "display_name": "Python 3",
   "language": "python",
   "name": "python3"
  },
  "language_info": {
   "codemirror_mode": {
    "name": "ipython",
    "version": 3
   },
   "file_extension": ".py",
   "mimetype": "text/x-python",
   "name": "python",
   "nbconvert_exporter": "python",
   "pygments_lexer": "ipython3",
   "version": "3.6.3"
  }
 },
 "nbformat": 4,
 "nbformat_minor": 2
}
