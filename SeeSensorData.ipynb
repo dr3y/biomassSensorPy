{
 "cells": [
  {
   "cell_type": "code",
   "execution_count": 3,
   "metadata": {},
   "outputs": [],
   "source": [
    "import os\n",
    "#how often to display the graph, in seconds:\n",
    "#read time is fixed at 25 seconds\n",
    "delay = 15\n",
    "datapath = os.path.join('.','data')\n",
    "outfilename = '190930_odvals.csv'\n",
    "statuspath = 'statusfile.txt'"
   ]
  },
  {
   "cell_type": "code",
   "execution_count": 6,
   "metadata": {},
   "outputs": [],
   "source": [
    "#run this to start the readings\n",
    "import time\n",
    "starttime = time.time()\n",
    "with open(os.path.join(datapath,statuspath), 'w') as statfle:\n",
    "    statfle.write(outfilename+\",0x29,\"+str(starttime))"
   ]
  },
  {
   "cell_type": "code",
   "execution_count": 7,
   "metadata": {},
   "outputs": [],
   "source": [
    "#run this to stop the readings\n",
    "with open(os.path.join(datapath,statuspath), 'w') as statfle:\n",
    "    statfle.write(\"\")"
   ]
  },
  {
   "cell_type": "code",
   "execution_count": null,
   "metadata": {},
   "outputs": [],
   "source": [
    "%matplotlib notebook\n",
    "import os\n",
    "import sys\n",
    "sys.path.append(os.path.join('.','runsensor'))\n",
    "from rsens import *\n",
    "import time\n",
    "fig,ax = initplot()\n",
    "while True:\n",
    "    allvals = readFile(os.path.join(datapath,outfilename))\n",
    "    #updateDict(allvals,starttime,lumvals,outfilename)\n",
    "    updatePlot(fig,ax,allvals)\n",
    "    time.sleep(delay)"
   ]
  },
  {
   "cell_type": "code",
   "execution_count": null,
   "metadata": {},
   "outputs": [],
   "source": []
  }
 ],
 "metadata": {
  "kernelspec": {
   "display_name": "Python 3",
   "language": "python",
   "name": "python3"
  },
  "language_info": {
   "codemirror_mode": {
    "name": "ipython",
    "version": 3
   },
   "file_extension": ".py",
   "mimetype": "text/x-python",
   "name": "python",
   "nbconvert_exporter": "python",
   "pygments_lexer": "ipython3",
   "version": "3.7.3"
  }
 },
 "nbformat": 4,
 "nbformat_minor": 2
}
