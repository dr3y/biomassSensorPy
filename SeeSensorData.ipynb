{
 "cells": [
  {
   "cell_type": "code",
   "execution_count": null,
   "metadata": {},
   "outputs": [],
   "source": [
    "%matplotlib notebook\n",
    "import sys\n",
    "import os\n",
    "sys.path.append(os.path.join('.','runsensor'))\n",
    "from rsens import *\n",
    "\n",
    "#how often to read, in seconds:\n",
    "delay = 15\n",
    "datapath = os.path.join('.','data')\n",
    "outfilename = '190930_odvals.csv'\n",
    "statuspath = 'statusfile.txt'\n",
    "\n",
    "\n",
    "\n",
    "#initFile(outfilename)\n",
    "\n",
    "#allvals = {'time':[],'r':[],'g':[],'b':[],'c':[],\\\n",
    "#           'ctrl_r':[],'ctrl_g':[],'ctrl_b':[],'ctrl_c':[],\\\n",
    "#          }\n",
    "#while True:\n",
    "#    lumvals = takeReading()\n",
    "#    updateDict(allvals,starttime,lumvals,outfilename)\n",
    "#    updatePlot(fig,ax,allvals)\n",
    "#    time.sleep(delay)"
   ]
  },
  {
   "cell_type": "code",
   "execution_count": 6,
   "metadata": {},
   "outputs": [],
   "source": [
    "#run this to start the readings\n",
    "import time\n",
    "starttime = time.time()\n",
    "with open(os.path.join(datapath,statuspath), 'w') as statfle:\n",
    "    statfle.write(outfilename+\",0x30,\"+str(starttime))"
   ]
  },
  {
   "cell_type": "code",
   "execution_count": null,
   "metadata": {},
   "outputs": [],
   "source": [
    "fig,ax = initplot()\n",
    "while True:\n",
    "    allvals = readFile(os.path.join(datapath,outfilename))\n",
    "    #updateDict(allvals,starttime,lumvals,outfilename)\n",
    "    updatePlot(fig,ax,allvals)\n",
    "    time.sleep(delay)"
   ]
  },
  {
   "cell_type": "code",
   "execution_count": null,
   "metadata": {},
   "outputs": [],
   "source": []
  }
 ],
 "metadata": {
  "kernelspec": {
   "display_name": "Python 3",
   "language": "python",
   "name": "python3"
  },
  "language_info": {
   "codemirror_mode": {
    "name": "ipython",
    "version": 3
   },
   "file_extension": ".py",
   "mimetype": "text/x-python",
   "name": "python",
   "nbconvert_exporter": "python",
   "pygments_lexer": "ipython3",
   "version": "3.6.3"
  }
 },
 "nbformat": 4,
 "nbformat_minor": 2
}
